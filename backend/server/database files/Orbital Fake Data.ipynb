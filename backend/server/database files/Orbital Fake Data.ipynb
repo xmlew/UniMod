{
 "cells": [
  {
   "cell_type": "code",
   "execution_count": 249,
   "id": "222814ac",
   "metadata": {},
   "outputs": [],
   "source": [
    "#importing required models\n",
    "import pandas as pd\n",
    "import urllib.request\n",
    "import json\n",
    "import random\n",
    "import csv"
   ]
  },
  {
   "cell_type": "code",
   "execution_count": 184,
   "id": "515e264c",
   "metadata": {},
   "outputs": [],
   "source": [
    "fos = \"\"\"Applied Mathematics\n",
    "Chemistry\n",
    "Computational Biology\n",
    "Data Science and Analytics\n",
    "Environmental Studies\n",
    "Food Science and Technology\n",
    "Life Sciences\n",
    "Mathematics\n",
    "Pharmaceutical Science\n",
    "Pharmacy\n",
    "Physics\n",
    "Quantitative Finance (QF)\n",
    "Statistics\"\"\""
   ]
  },
  {
   "cell_type": "code",
   "execution_count": 185,
   "id": "7fbe5e73",
   "metadata": {},
   "outputs": [],
   "source": [
    "fass = \"\"\"Chinese Language\n",
    "Chinese Studies\n",
    "Japanese Studies\n",
    "Malay Studies\n",
    "South Asian Studies\n",
    "Southeast Asian Studies\n",
    "English Language\n",
    "English Literature\n",
    "Theatre Studies\n",
    "History\n",
    "Philosophy\n",
    "Communications and New Media\n",
    "Economics\n",
    "Geography\n",
    "Political Science\n",
    "Psychology\n",
    "Social Work\n",
    "Sociology\"\"\""
   ]
  },
  {
   "cell_type": "code",
   "execution_count": 186,
   "id": "4af60370",
   "metadata": {},
   "outputs": [],
   "source": [
    "comp = \"\"\"Information Systems\n",
    "Business Analytics\n",
    "Computer Science\n",
    "Computer Engineering\n",
    "Information Security\"\"\""
   ]
  },
  {
   "cell_type": "code",
   "execution_count": 187,
   "id": "68a9bcb5",
   "metadata": {},
   "outputs": [],
   "source": [
    "cds = \"\"\"Architecture\n",
    "Biomedical Engineering\n",
    "Chemical Engineering\n",
    "Civil Engineering\n",
    "Electrical Engineering\n",
    "Engineering Science\n",
    "Environmental Engineering\n",
    "Industrial Design\n",
    "Industrial & Systems Engineering\n",
    "Infrastracture & Project Management\n",
    "Landscape Architecture\n",
    "Materials Science & Engineering\n",
    "Mechanical Engineering\"\"\""
   ]
  },
  {
   "cell_type": "code",
   "execution_count": 188,
   "id": "b12aed0d",
   "metadata": {},
   "outputs": [],
   "source": [
    "biz = \"\"\"Business Administration\n",
    "Real Estate\"\"\""
   ]
  },
  {
   "cell_type": "code",
   "execution_count": 209,
   "id": "3f55545f",
   "metadata": {},
   "outputs": [],
   "source": [
    "fosList = fos.split('\\n')\n",
    "fassList = fass.split('\\n')\n",
    "compList = comp.split('\\n')\n",
    "cdsList = cds.split('\\n')\n",
    "bizList = biz.split('\\n')\n",
    "musicList = ['music']"
   ]
  },
  {
   "cell_type": "code",
   "execution_count": 270,
   "id": "6a58a477",
   "metadata": {},
   "outputs": [],
   "source": [
    "contents = urllib.request.urlopen(\"https://api.nusmods.com/v2/2022-2023/moduleList.json\")\n",
    "data = json.loads(contents.read().decode())"
   ]
  },
  {
   "cell_type": "code",
   "execution_count": 191,
   "id": "3314fb6e",
   "metadata": {},
   "outputs": [],
   "source": [
    "geMods = []\n",
    "for d in data:\n",
    "    if d['moduleCode'].startswith('GE') & (d['moduleCode'][2] in \"ABCDEFGHIJKLMNOPQRSTUVWXYZ\"):\n",
    "        geMods.append(f\"{d['moduleCode']}: {d['title']}\")"
   ]
  },
  {
   "cell_type": "code",
   "execution_count": 192,
   "id": "23c54d1d",
   "metadata": {},
   "outputs": [],
   "source": [
    "#need to do GE mod data analysis but can convert to javascript"
   ]
  },
  {
   "cell_type": "code",
   "execution_count": 193,
   "id": "1abdd2bf",
   "metadata": {
    "scrolled": false
   },
   "outputs": [],
   "source": [
    "geModsNew = list(filter(lambda x: (x[2] in \"ACHIN\" or x[2:4] == \"SS\"), geMods))"
   ]
  },
  {
   "cell_type": "code",
   "execution_count": 224,
   "id": "23b189bf",
   "metadata": {},
   "outputs": [],
   "source": [
    "#this is where the dummy data will be created\n",
    "fosModsList = [\n",
    "    #1 GE per sem\n",
    "    #Applied Math\n",
    "    [['MA1100', 'MA1101R','MA1102R','CS1010E','CS1010S'], ['MA2101', 'MA2104', 'MA2108', 'MA2213', 'MA2216', 'MA2214']]\n",
    "]\n",
    "\n",
    "socModsList = [\n",
    "    #1 GE per sem\n",
    "    #InfoSys\n",
    "    [['CS1010J', 'BT1101', 'IS1103', 'MA1521', 'ST2334'], ['BT2102', 'CS2030', 'CS2040', 'IS2101', 'IS2102', 'IS2103']],\n",
    "    #BZA\n",
    "    [['BT1101', 'CS1010S', 'MA2001', 'IS1103', 'MA1521'], ['BT2102', 'BT2101', 'BT2103', 'CS2030', 'CS2040', 'IS2101']],\n",
    "    #comsci\n",
    "    [['CS1101S', 'ES2660', 'IS1103', 'CS1231S', 'MA1521'], ['CS2030S', 'CS2040S', 'MA2001', 'CS2100', 'CS2101', 'CS2106']],\n",
    "    #comeng\n",
    "    [['CS1010', 'MA1511', 'MA1512', 'CG1111A', 'CS1231', 'MA1508E'], ['CG2111A', 'CS2040C', 'CG2023', 'CG2028', 'CG2271', 'CS2113']],\n",
    "    #InfoSec\n",
    "    [['CS1010', 'IS1103', 'CS1231S', 'MA1521', 'MA2001'], ['CS2100', 'CS2040C', 'CS2105', 'CS2106', 'CS2101']]\n",
    "]\n",
    "\n",
    "bizModsList = [\n",
    "    #bizad\n",
    "    [['MNO1706X', 'ACC1701X', 'MKT1705X', 'BSP1702X', 'BSP1703X', 'DAO1704X'],['FIN2704X', ]],\n",
    "    #realestate\n",
    "    [[],[]]\n",
    "]\n",
    "\n",
    "#basket 1 and 2, the rest is own modules\n",
    "chsMods = [['HSH1000', 'HSA1000', 'GEA1000'], ['HSS1000', 'HSI1000', 'DTK1234']]"
   ]
  },
  {
   "cell_type": "code",
   "execution_count": 244,
   "id": "d9efaad9",
   "metadata": {},
   "outputs": [],
   "source": [
    "#Fake Data Generator\n",
    "#current implementations: create 4 core and 1 GE for everything but CHS\n",
    "#currently it's all core mods cause GE implementation is a BIT mafan\n",
    "def yearOnePlanner(course: str, d: dict) -> list:\n",
    "    sem1, sem2 = [], []\n",
    "    modules = d[course]\n",
    "    while len(sem1) < 5:\n",
    "        num = random.randint(0, len(d[course][0]) - 1)\n",
    "        if d[course][0][num] not in sem1:\n",
    "            sem1.append(d[course][0][num])\n",
    "    while len(sem2) < 5:\n",
    "        num2 = random.randint(0, len(d[course][1]) - 1)\n",
    "        if d[course][1][num2] not in sem2:\n",
    "            sem2.append(d[course][1][num2])\n",
    "    return [sem1, sem2]\n",
    "\n",
    "#Generates students\n",
    "def generateStudent(course: str, d: dict) -> dict:\n",
    "    sem1, sem2 = yearOnePlanner(course, d)\n",
    "    return {'Course': course, 'Sem1': sem1, 'Sem2': sem2}\n",
    "\n",
    "#Generates computing cohort\n",
    "def generateCohort(faculty: list, d: dict, students: int) -> list:\n",
    "    cohort = []\n",
    "    for i in range(students):\n",
    "        for course in faculty:\n",
    "            student = generateStudent(course, d)\n",
    "            cohort.append(student)\n",
    "    return cohort\n",
    "\n",
    "#will implement later. Based on the two baskets\n",
    "def yearOnePlannerCHS(course: str, d: dict) -> list:\n",
    "    pass"
   ]
  },
  {
   "cell_type": "code",
   "execution_count": 237,
   "id": "09cf5de4",
   "metadata": {},
   "outputs": [],
   "source": [
    "compDict = {compList[i]: socModsList[i] for i in range(len(compList))}"
   ]
  },
  {
   "cell_type": "code",
   "execution_count": 238,
   "id": "bfcd3d29",
   "metadata": {},
   "outputs": [
    {
     "name": "stdout",
     "output_type": "stream",
     "text": [
      "[['CS1101S', 'MA1521', 'CS1231S', 'ES2660', 'IS1103'], ['CS2030S', 'MA2001', 'CS2040S', 'CS2100', 'CS2106']]\n"
     ]
    }
   ],
   "source": [
    "print(yearOnePlanner('Computer Science', compDict))"
   ]
  },
  {
   "cell_type": "code",
   "execution_count": 239,
   "id": "37f62ddd",
   "metadata": {},
   "outputs": [
    {
     "name": "stdout",
     "output_type": "stream",
     "text": [
      "{'Course': 'Business Analytics', 'Sem1': ['CS1010S', 'MA2001', 'IS1103', 'BT1101', 'MA1521'], 'Sem2': ['BT2103', 'BT2102', 'IS2101', 'CS2040', 'BT2101']}\n"
     ]
    }
   ],
   "source": [
    "print(generateStudent('Business Analytics', compDict))"
   ]
  },
  {
   "cell_type": "code",
   "execution_count": 245,
   "id": "0eb3ff74",
   "metadata": {},
   "outputs": [],
   "source": [
    "computingCohort = generateCohort(compList, compDict, 500)"
   ]
  },
  {
   "cell_type": "code",
   "execution_count": 246,
   "id": "c9794038",
   "metadata": {},
   "outputs": [
    {
     "data": {
      "text/plain": [
       "2500"
      ]
     },
     "execution_count": 246,
     "metadata": {},
     "output_type": "execute_result"
    }
   ],
   "source": [
    "len(computingCohort)"
   ]
  },
  {
   "cell_type": "code",
   "execution_count": 273,
   "id": "6cfefae0",
   "metadata": {},
   "outputs": [],
   "source": [
    "#writer = csv.DictWriter(\"fakedata.csv\", fieldnames=['Course', 'Sem1', 'Sem2'])\n",
    "\n",
    "try:\n",
    "    with open(\"fakedata.csv\", 'w') as csvfile:\n",
    "        writer = csv.DictWriter(csvfile, fieldnames=['Course', 'Sem1', 'Sem2'])\n",
    "        writer.writeheader()\n",
    "        for i in computingCohort:\n",
    "            writer.writerow(i)\n",
    "except IOError:\n",
    "    print(\"I/O error\")"
   ]
  },
  {
   "cell_type": "code",
   "execution_count": 276,
   "id": "b8122839",
   "metadata": {},
   "outputs": [
    {
     "name": "stdout",
     "output_type": "stream"
    }
   ],
   "source": [
    "try:\n",
    "    with open(\"moduleData.csv\", 'w', encoding = 'utf-8') as csvfile:\n",
    "        writer = csv.DictWriter(csvfile, fieldnames=['moduleCode', 'title', 'semesters'])\n",
    "        writer.writeheader()\n",
    "        for i in data:\n",
    "            print(i)\n",
    "            writer.writerow(i)\n",
    "except IOError:\n",
    "    print(\"I/O error\")"
   ]
  },
  {
   "cell_type": "code",
   "execution_count": null,
   "id": "e6f0b087",
   "metadata": {},
   "outputs": [],
   "source": []
  },
  {
   "cell_type": "code",
   "execution_count": null,
   "id": "5c73069e",
   "metadata": {},
   "outputs": [],
   "source": []
  }
 ],
 "metadata": {
  "kernelspec": {
   "display_name": "Python 3 (ipykernel)",
   "language": "python",
   "name": "python3"
  },
  "language_info": {
   "codemirror_mode": {
    "name": "ipython",
    "version": 3
   },
   "file_extension": ".py",
   "mimetype": "text/x-python",
   "name": "python",
   "nbconvert_exporter": "python",
   "pygments_lexer": "ipython3",
   "version": "3.8.12"
  }
 },
 "nbformat": 4,
 "nbformat_minor": 5
}
